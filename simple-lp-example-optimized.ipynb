{
 "cells": [
  {
   "cell_type": "markdown",
   "id": "ad75186e-8683-4c1f-ba10-70b0d6265084",
   "metadata": {},
   "source": [
    "# Simple Linear Programming Implementation"
   ]
  },
  {
   "cell_type": "markdown",
   "id": "c665a960-dd31-4b18-b92f-48377dfa9a73",
   "metadata": {},
   "source": [
    "We all have this experience: when we were kids, our parents gave us some money so that we could buy our favorite toys.\n",
    "\n",
    "Let’s suppose you got $100. There are three types of toys that you are interested in and each of them costs you different amount of money and brings you a different level of happiness. \n",
    "\n",
    "Assume:\n",
    "\n",
    "- Toy lego costs you \\$8.00 and brings you a happiness level of 10.\n",
    "- Toy house costs you \\$5.00 and brings you a happiness level of 6.\n",
    "- Toy car costs you \\$2.00 and brings you a happiness level of 4.\n",
    "\n",
    "You want to achieve two things by spending your $100 on those toys. \n",
    "- You want to have as high happiness level as possible.\n",
    "- You want to have at least one of each of these toys.\n",
    "\n",
    "How are you going to spend your money?\n",
    "\n",
    "__Decisions__: Purchase $x$ legos, $y$ toy houses and $z$ toy cars.\n",
    "\n",
    "\n",
    "__Objective:__ \n",
    "$$\n",
    "\\text{maximize }\\qquad 10x + 6y + 4z\n",
    "$$\n",
    "__Constraints:__\n",
    "$$\n",
    "8x + 5y + 2z <= 100\n",
    "$$\n",
    "$$\n",
    "x >= 1\n",
    "$$\n",
    "$$\n",
    "y >= 1\n",
    "$$\n",
    "$$\n",
    "z >= 1\n",
    "$$\n",
    "\n",
    "$$\n",
    "\\begin{bmatrix}\n",
    "8 & 5 & 2\\\\\n",
    "-1 & 0 & 0\\\\\n",
    "0 & -1 & 0\\\\\n",
    "0 & 0 & -1\n",
    "\\end{bmatrix}\n",
    "\\begin{bmatrix}\n",
    "x\\\\\n",
    "y\\\\\n",
    "z\n",
    "\\end{bmatrix}\n",
    "\\leq\\begin{bmatrix}\n",
    "100\\\\\n",
    "-1\\\\\n",
    "-1\\\\\n",
    "-1\n",
    "\\end{bmatrix}\n",
    "$$\n",
    "Or, we can generalize the LP by writing\n",
    "$$\n",
    "\\begin{align}\n",
    "\\text{minimize }\\qquad & c^Tx\\\\\n",
    "\\text{subject to } \\qquad & Gx + s = h\\\\\n",
    "& Ax = b\\\\\n",
    "& s \\geq 0\n",
    "\\end{align}\n",
    "$$"
   ]
  },
  {
   "cell_type": "code",
   "execution_count": 5,
   "id": "730799fb-c515-4a63-91bc-b43ff61483f8",
   "metadata": {},
   "outputs": [],
   "source": [
    "import numpy as np\n",
    "from cvxopt import matrix, solvers  # CVXOPT user guide: https://cvxopt.org/userguide/coneprog.html#linear-programming"
   ]
  },
  {
   "cell_type": "code",
   "execution_count": 8,
   "id": "fbdccf27-51e3-4687-9077-7a64cd66596e",
   "metadata": {},
   "outputs": [
    {
     "name": "stdout",
     "output_type": "stream",
     "text": [
      "     pcost       dcost       gap    pres   dres   k/t\n",
      " 0: -1.2670e+02 -3.6817e+02  4e+01  0e+00  2e+00  1e+00\n",
      " 1: -1.3892e+02 -2.5881e+02  2e+01  5e-17  8e-01  2e+00\n",
      " 2: -1.8556e+02 -2.1480e+02  1e+01  8e-16  2e-01  2e+00\n",
      " 3: -1.8991e+02 -1.9038e+02  2e-01  5e-16  3e-03  3e-02\n",
      " 4: -1.9000e+02 -1.9000e+02  2e-03  7e-17  3e-05  3e-04\n",
      " 5: -1.9000e+02 -1.9000e+02  2e-05  4e-16  3e-07  3e-06\n",
      " 6: -1.9000e+02 -1.9000e+02  2e-07  2e-16  3e-09  3e-08\n",
      "Optimal solution found.\n",
      "[ 1.00e+00]\n",
      "[ 1.00e+00]\n",
      "[ 4.35e+01]\n",
      "\n"
     ]
    }
   ],
   "source": [
    "# Define the objective function. In our case, we want to maximize the happiness level.\n",
    "# We use a negative sign because CVXOPT minimizes by default.\n",
    "c = matrix([-10.0, -6.0, -4.0])\n",
    "\n",
    "# Define the constraints matrix.\n",
    "# The first row corresponds to the money constraint (each toy's cost times its quantity must be less than or equal to 100)\n",
    "# The other rows correspond to the constraints that we must buy at least one of each toy.\n",
    "G = matrix([\n",
    "    [8.0, -1.0, 0.0, 0.0], \n",
    "    [5.0, 0.0, -1.0, 0.0], \n",
    "    [2.0, 0.0, 0.0, -1.0]\n",
    "])\n",
    "\n",
    "# Define the RHS of the constraints.\n",
    "# For the money constraint, it is 100. For the toy constraints, it is -1 (because we moved the constraints to the LHS).\n",
    "h = matrix([100.0, -1.0, -1.0, -1.0])\n",
    "\n",
    "try:\n",
    "    # Solve the linear program\n",
    "    sol = solvers.lp(c, G, h)\n",
    "\n",
    "    # Print the solution in a friendly format\n",
    "    print(f\"Number of lego toys to buy: {sol['x'][0]}\")\n",
    "    print(f\"Number of house toys to buy: {sol['x'][1]}\")\n",
    "    print(f\"Number of car toys to buy: {sol['x'][2]}\")\n",
    "except Exception as e:\n",
    "    print(\"An error occurred while solving the LP problem.\")\n",
    "    print(f\"Error details: {e}\")"
   ]
  },
  {
   "cell_type": "markdown",
   "id": "43b2f739",
   "metadata": {},
   "source": [
    "\n",
    "The solution tells us the optimal number of each type of toy to buy in order to maximize our happiness level while staying within our budget and buying at least one of each toy. We can interpret the results as follows:\n",
    "\n",
    "- We should buy the number of lego toys printed above.\n",
    "- We should buy the number of house toys printed above.\n",
    "- We should buy the number of car toys printed above.\n"
   ]
  },
  {
   "cell_type": "code",
   "execution_count": null,
   "id": "4adf6305-75c6-435b-b870-20697b69b0fb",
   "metadata": {},
   "outputs": [],
   "source": []
  }
 ],
 "metadata": {
  "kernelspec": {
   "display_name": "Python 3 (ipykernel)",
   "language": "python",
   "name": "python3"
  },
  "language_info": {
   "codemirror_mode": {
    "name": "ipython",
    "version": 3
   },
   "file_extension": ".py",
   "mimetype": "text/x-python",
   "name": "python",
   "nbconvert_exporter": "python",
   "pygments_lexer": "ipython3",
   "version": "3.9.7"
  }
 },
 "nbformat": 4,
 "nbformat_minor": 5
}
