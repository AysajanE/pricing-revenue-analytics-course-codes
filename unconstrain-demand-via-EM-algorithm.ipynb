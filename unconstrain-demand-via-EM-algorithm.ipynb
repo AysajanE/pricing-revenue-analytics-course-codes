{
 "cells": [
  {
   "cell_type": "markdown",
   "id": "e5704b48-eaf9-405b-8c08-4e5a65c95596",
   "metadata": {},
   "source": [
    "# Unconstraining Demand Using Expectation-Maximization (EM) Algorithm"
   ]
  },
  {
   "cell_type": "markdown",
   "id": "b9411568-0c3d-4e36-98d2-995c535e2c74",
   "metadata": {},
   "source": [
    "The expectation-maximization (EM) method is the most widely used method for correcting for constrained demand data in quantity-based revenue management. The goal of implementing EM method is to find parameters of an underlying demand distribution for those observations.\n",
    "\n",
    "Reference: https://www.jstor.org/stable/2984875#metadata_info_tab_contents\n",
    "\n",
    "Reference: https://www.youtube.com/watch?v=REypj2sy_5U&list=PLBv09BD7ez_4e9LtmK626Evn1ion6ynrt"
   ]
  },
  {
   "cell_type": "code",
   "execution_count": 1,
   "id": "92ca64fc-c3f8-40ca-81a8-cce53a661522",
   "metadata": {},
   "outputs": [],
   "source": [
    "%matplotlib inline"
   ]
  },
  {
   "cell_type": "code",
   "execution_count": 2,
   "id": "119db7ba-3a17-42d5-b841-de002f048361",
   "metadata": {},
   "outputs": [],
   "source": [
    "import math\n",
    "import numpy as np\n",
    "import pandas as pd\n",
    "import matplotlib.pyplot as plt\n",
    "from scipy import stats\n",
    "from scipy.stats import norm\n",
    "import scipy.integrate as integrate\n",
    "\n",
    "from IPython.display import Latex"
   ]
  },
  {
   "cell_type": "code",
   "execution_count": 3,
   "id": "71774e8a-165d-4c79-867d-060d008da656",
   "metadata": {},
   "outputs": [
    {
     "name": "stdout",
     "output_type": "stream",
     "text": [
      "17\n",
      "22\n",
      "15\n"
     ]
    },
    {
     "data": {
      "text/plain": [
       "(array([22, 15, 33, 16, 22, 22, 17, 23, 19, 31, 17, 30, 23, 31, 12, 41]),\n",
       " array([22, 15, 17, 33, 16, 22, 22, 15, 22, 17, 23, 19, 31, 17, 30, 23, 31,\n",
       "        12, 41]))"
      ]
     },
     "execution_count": 3,
     "metadata": {},
     "output_type": "execute_result"
    }
   ],
   "source": [
    "# Consider a data set of bookings\n",
    "# Suppose bookings on 3rd (17), 6th (22), and 8th (15) days are constrained\n",
    "obs_data = np.array([22, 15, 17, 33, 16, 22, 22, 15, 22, 17, 23, 19, 31, 17, 30, 23, 31, 12, 41])\n",
    "cons_data_index = np.array([2, 5, 7])\n",
    "bk_limits = obs_data[cons_data_index]\n",
    "for idx in cons_data_index:\n",
    "    print(obs_data[idx])\n",
    "\n",
    "uncons_data = np.delete(obs_data, cons_data_index)\n",
    "uncons_data, obs_data"
   ]
  },
  {
   "cell_type": "markdown",
   "id": "3ecbed2d-eece-4209-8293-6a829223b305",
   "metadata": {},
   "source": [
    "## EM Algorithm\n",
    "### STEP 0 (Initialize)\n",
    "Initialize true demand parameters to be average and standard deviation of the constrained data"
   ]
  },
  {
   "cell_type": "code",
   "execution_count": 49,
   "id": "2b89d1bc-7eb7-4760-b228-1cb3b96fc87b",
   "metadata": {},
   "outputs": [
    {
     "data": {
      "text/plain": [
       "(22.526315789473685, 7.537818878846347)"
      ]
     },
     "execution_count": 49,
     "metadata": {},
     "output_type": "execute_result"
    }
   ],
   "source": [
    "# Assume the parameters for the unconstrained data is the same as the constrained\n",
    "data_stats = stats.describe(obs_data)\n",
    "mu0, sig0 = data_stats[2], math.sqrt(data_stats[3])\n",
    "(mu0, sig0)"
   ]
  },
  {
   "cell_type": "markdown",
   "id": "bffd82c9-84ee-4ac4-a016-96482d8910a2",
   "metadata": {},
   "source": [
    "### STEP 1 (E-step)\n",
    "We replace the censored data by estimates of their uncensored values using the __current__ estimates of the mean and standard deviaiton.\n",
    "\n",
    "Calculate the EV of the censored data in the log-likelihood function assuming they came from a normal distribution with parameters $(\\mu^{(k-1)}, \\sigma^{(k-1)})$.\n",
    "\n",
    "What we want to calculate is the following:\n",
    "\n",
    "Reference: https://en.wikipedia.org/wiki/Truncated_normal_distribution#Moments\n",
    "Reference: https://stats.stackexchange.com/questions/166273/expected-value-of-x-in-a-normal-distribution-given-that-it-is-below-a-certain-v\n",
    "\n",
    "A normal random variable(rv) $X$ with mean $\\mu$ and standard deviation $\\sigma$ has the same distribution as $\\sigma Z+\\mu$ where $Z$ is standard normal rv with mean 0 and standrad deviaiton of 1. Several special properties of $Z$:\n",
    "- Its cdf is denoted by $\\Phi$,\n",
    "- It has pdf $\\phi(z)=\\Phi^\\prime(z)$,\n",
    "- $\\phi^\\prime(z)=-z\\phi(z)$.\n",
    "\n",
    "The third property can be derived easily using the pdf of a standard normal distribution.\n",
    "\n",
    "Let the rv of interest be $X$. We define standard normal rv as $Z$:\n",
    "$$Z = \\dfrac{X-\\mu}{\\sigma}$$\n",
    "\n",
    "Thus, for a certain value of $X$, let's say $C$, we have a corresponding $Z$ value as $c=\\dfrac{C-\\mu}{\\sigma}$ and\n",
    "$$Pr(X\\leq C) = Pr(Z\\leq c)=\\Phi(c)$$\n",
    "or, equivalently\n",
    "$$Pr(X\\geq C) = Pr(Z\\geq c)=1-\\Phi(c)$$\n",
    "\n",
    "Now let's try to calculate the conditional expectation that we will use in E-step:\n",
    "$$\n",
    "E(X|X\\geq C) = E(\\sigma Z+\\mu|Z\\geq c)=\\sigma E(Z|Z\\geq c)+\\mu E(1|Z\\geq c)=\\dfrac{\\sigma \\int_c^\\infty z\\phi(z)\\,dz+\\mu\\int_c^\\infty \\phi(z)\\,dz}{Pr(Z\\geq c)}\n",
    "=\\dfrac{-\\sigma \\int_c^\\infty \\phi^\\prime(z)\\,dz+\\mu\\int_c^\\infty\\Phi^\\prime(z)}{1-\\Phi(c)} = \\dfrac{-\\sigma[\\phi(\\infty)-\\phi(c)]+\\mu[\\Phi(\\infty)-\\Phi(c)]}{1-\\Phi(c)}\n",
    "=\\dfrac{-\\sigma[0-\\phi(c)]+\\mu[1-\\Phi(c)]}{1-\\Phi(c)} = \\mu-\\sigma\\dfrac{-\\phi(c)}{1-\\Phi(c)} = \\mu +\\sigma\\dfrac{\\phi(c)}{1-\\Phi(c)}\n",
    "$$"
   ]
  },
  {
   "cell_type": "markdown",
   "id": "ce0775a2-d912-46bd-9e65-1211fe3b9058",
   "metadata": {},
   "source": [
    "### STEP 2 (M-step)\n",
    "This step involves maximizing complete-data log likelihood function with respect to $\\mu$ and $\\sigma$. There are two critical points:\n",
    "- The complete-data refers to the updated data where constrained points are replaced with the estimation in the E-step.\n",
    "- $\\mu$ and $\\sigma$ are also updated values for the complete data with constrained values are repalced with their estimations.\n",
    "\n",
    "It turns out the new $\\mu$ and $\\sigma$ are the average and standard deviation of the new complete-data. Once we have these updated parameters, we iterate E-step and M-step through until the convergence test is satisfied."
   ]
  },
  {
   "cell_type": "code",
   "execution_count": 53,
   "id": "5cbe34e6-8714-4377-a8b8-3e96878a1ee0",
   "metadata": {},
   "outputs": [
    {
     "name": "stdout",
     "output_type": "stream",
     "text": [
      "23.811902812062755 7.264223809564334\n",
      "23.892377124041108 7.288780223314073\n",
      "23.902349847735717 7.292585075554647\n",
      "3\n"
     ]
    }
   ],
   "source": [
    "obs_data_em = obs_data.copy()\n",
    "mu_em = mu0\n",
    "sig_em = sig0\n",
    "\n",
    "# tolerance level and maximum iterations for the EM algorithm.\n",
    "# They specify convergence/stop criteria\n",
    "tol = 0.01\n",
    "max_iter = 100\n",
    "\n",
    "iteration = 0\n",
    "mu_diff, sig_diff = 1, 1\n",
    "\n",
    "# STOP if (abs(mu_k - mu_k_minus_1)<tol and abs(sig_k - sig_k_minus_1)<tol) or iteration > max_iteration\n",
    "while not((mu_diff < tol and sig_diff < tol) or iteration > max_iter):\n",
    "    data_update = []\n",
    "    mu1 = mu_em\n",
    "    sig1 = sig_em\n",
    "    for idx, obs in enumerate(obs_data_em):\n",
    "        if np.isin(idx, cons_data_index):\n",
    "            # Standardized value of the booking limit\n",
    "            bk_limit_stdr = (obs_data[idx] - mu1) / sig1\n",
    "            # calculate expected value given the demand is greater than or equal to booking limit\n",
    "            cons_obs_update = mu1 + sig1 * norm.pdf(bk_limit_stdr) / (1 - norm.cdf(bk_limit_stdr))\n",
    "            data_update.append(cons_obs_update)\n",
    "        else:\n",
    "            # not constrained data points stay the same\n",
    "            data_update.append(obs_data[idx])\n",
    "    obs_data_em = np.array(data_update)\n",
    "    mu_em, sig_em = stats.describe(obs_data_em)[2], math.sqrt(stats.describe(obs_data_em)[3])\n",
    "    print(mu_em, sig_em)\n",
    "    mu_diff, sig_diff = np.absolute(mu_em - mu1), np.absolute(sig_em - sig1)\n",
    "    iteration += 1\n",
    "\n",
    "print(iteration)"
   ]
  },
  {
   "cell_type": "code",
   "execution_count": 54,
   "id": "4502e705-25e3-46a5-831a-b96718721eac",
   "metadata": {},
   "outputs": [
    {
     "data": {
      "text/plain": [
       "array([22.        , 15.        , 26.13861052, 33.        , 16.        ,\n",
       "       28.55923652, 22.        , 25.44680007, 22.        , 17.        ,\n",
       "       23.        , 19.        , 31.        , 17.        , 30.        ,\n",
       "       23.        , 31.        , 12.        , 41.        ])"
      ]
     },
     "execution_count": 54,
     "metadata": {},
     "output_type": "execute_result"
    }
   ],
   "source": [
    "obs_data_update"
   ]
  },
  {
   "cell_type": "code",
   "execution_count": 55,
   "id": "a65a0df6-c841-4978-8f58-5970fcdea003",
   "metadata": {},
   "outputs": [
    {
     "data": {
      "text/plain": [
       "DescribeResult(nobs=19, minmax=(12.0, 41.0), mean=23.902349847735717, variance=53.18179708420238, skewness=0.4600626229055299, kurtosis=-0.20768001760575583)"
      ]
     },
     "execution_count": 55,
     "metadata": {},
     "output_type": "execute_result"
    }
   ],
   "source": [
    "stats.describe(obs_data_update)"
   ]
  },
  {
   "cell_type": "code",
   "execution_count": null,
   "id": "605cc33a-0c6a-4629-8003-455a72a7a311",
   "metadata": {},
   "outputs": [],
   "source": []
  }
 ],
 "metadata": {
  "kernelspec": {
   "display_name": "Python 3 (ipykernel)",
   "language": "python",
   "name": "python3"
  },
  "language_info": {
   "codemirror_mode": {
    "name": "ipython",
    "version": 3
   },
   "file_extension": ".py",
   "mimetype": "text/x-python",
   "name": "python",
   "nbconvert_exporter": "python",
   "pygments_lexer": "ipython3",
   "version": "3.9.7"
  }
 },
 "nbformat": 4,
 "nbformat_minor": 5
}
