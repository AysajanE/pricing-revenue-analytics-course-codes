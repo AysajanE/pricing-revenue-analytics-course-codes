{
 "cells": [
  {
   "cell_type": "markdown",
   "id": "701ec0bd-35ed-479d-ab3a-4591fadd0d28",
   "metadata": {},
   "source": [
    "# Airline Network Revenue Management"
   ]
  },
  {
   "cell_type": "markdown",
   "id": "f6fe0161-57dc-4608-a742-26ab0a32b9af",
   "metadata": {},
   "source": [
    "In this notebook, I will implement linear programming approach for a simple airline network revenue management. The example is taken from the book [Pricing and Revenue Optimization](https://www.sup.org/books/title/?id=31628) - Second Edition, pages 248-253. This example is in the chapter 10 of the book where the author Robert Phillips discusses network revenue management.\n",
    "\n",
    "---"
   ]
  },
  {
   "cell_type": "markdown",
   "id": "4101ddb2-6229-4ffb-890c-d97059125d53",
   "metadata": {},
   "source": [
    "## Example\n",
    "Consider a simple [hub-and-spoke](https://en.wikipedia.org/wiki/Spoke%E2%80%93hub_distribution_paradigm) airline network where an airline offers two flights:\n",
    "\n",
    "San Francisco (SFO) ----------> Denver (DEN) ----------------> St. Louis (STL)\n",
    "\n",
    "*Flight 1*: SFO ---> DEN\n",
    "\n",
    "*Flight 2*: DEV ---> STL\n",
    "\n",
    "Given these two flights, the airline can create three products:\n",
    "- San Francisco to Denver flight\n",
    "- Denver to St. Louis flight\n",
    "- San Francisco to St. Louis flight\n",
    "\n",
    "Essentially an airline product is simply an origin-destination combination. For each product, the airline can offer different fare classes, like full fare, discount fare, and deep discount fare, where in general the price is getting lower and lower, respectively. For this example, we assume that this airline offers full fare and discount fare. Accoridngly, the airline can sell six types of flight tickets to the customers:\n",
    "1. SFO ---> DEV full fare\n",
    "2. SFO ---> DEV discount fare\n",
    "3. DEV ---> STL full fare\n",
    "4. DEV ---> STL discount fare\n",
    "5. SFO ---> STL full fare\n",
    "6. SFO ---> STL discount fare\n",
    "\n",
    "This combination of product and fare class is called *origin-destination fare class*, or ODF in traditional revenue management. Several ket facts about those ODFs:\n",
    "- Each ODF is a combination of product and fare class.\n",
    "- Each ODF has an associated demand. Demands are observed in the ODF level.\n",
    "- Airline fares are priced at ODF level.\n",
    "- Each ODF consumes one or multiple resources. For instance, SFO ---> DEV full fare consumes one seat from SFO ---> DEV flight; SFO ---> STL discount fare consumes one flight seat from each of the SFO ---> DEV flight and DEV --> STL flight.\n",
    "\n",
    "---"
   ]
  },
  {
   "cell_type": "markdown",
   "id": "e94269af-fea8-440e-ad0d-ea2680ace97b",
   "metadata": {},
   "source": [
    "The way airline bookings works is that consumers make advance purchase requests on an upcoming flight and airlines make decisions on accepting or rejecting those advance purchases. The tradeoff airlies face is that if they accept a request with discount fare, it might dislace a potential full fare request in the future. Also, if a customer wants to book a fligt that spans multiple legs, it is essentially consuming multiple legs. For airlines the revenue from such booking is lower than the sum of the fare they can collect by selling each resource individually to local booking requests. For instance, airlines might accept a SFo ---> STL booking request for 300.00 dollars where they could have sold two separate single-leg local flights for a total of 350 dollars, 200.00 for the first flight and 150.00 for the second flight. This means lost revenue for the airline.\n",
    "\n",
    "---"
   ]
  },
  {
   "cell_type": "markdown",
   "id": "6cd0f062-229e-466b-ad3b-1a80b65cff1e",
   "metadata": {},
   "source": [
    "That's why we need a systematic way of evaluating our decision, and that is where linear programming comes in. Before we start, let's provide some basic information about each ODFs of the airline:\n",
    "\n",
    "| Number | ODF                     | Fare (\\$) | Demand |\n",
    "|--------|-------------------------|-----------|--------|\n",
    "| 1      |SFO -> DEV full fare     | 150       | 30     |\n",
    "| 2      |SFO -> DEV discount fare | 100       | 60     |\n",
    "| 3      |DEV -> STL full fare     | 120       | 20     |\n",
    "| 4      |DEV -> STL discount fare | 80        | 80     |\n",
    "| 5      |SFO -> STL full fare     | 250       | 30     |\n",
    "| 6      |SFO -> STL discount fare | 170       | 40     |\n",
    "\n",
    "SFO -> DEV flight has a capacity of 100 seats and DEV -> STL flight has a capacity of 120 seats. \n",
    "\n",
    "---"
   ]
  },
  {
   "cell_type": "markdown",
   "id": "771ea6e0-8f1e-4c88-837f-3944da3f161a",
   "metadata": {},
   "source": [
    "Let's define some general notation to this type of problem, then we come back to our problem. \n",
    "\n",
    "We first have resources and ODFs. Let's assume we have $m$ resouces (in our case $m=2$) and $n$ ODFs (in our case $n=6$) with $n \\geq m$. We can use subscript $i$ to index resources and the subscript $j$ to index ODF. Each resource $i$ has a limited capacity of $C_i>0$. Each ODF has a *known* demand $d_j>0$ and a net contribution margin of $p_j>0$. \n",
    "\n",
    "Let $x_j\\geq0$ be the amount of ODF $j$ we will allow to book. Then our problem is to find the values of $x_j$ for $j=1, 2, ..., n$ that maximizes total net contriution subjest to the constrained available capacity.\n",
    "\n",
    "We need one more variable to address the resource consumption instance of each ODF. To do this, we define the incidence variable $a_{ij}$ as follows:\n",
    "$$\n",
    "\\begin{equation}\n",
    "a_{ij} = \\begin{cases}\n",
    "1 \\qquad & \\text{ if resource } i \\text{ is used in ODF }j\\\\\n",
    "0 \\qquad &\\text{otherwise}\n",
    "\\end{cases}\n",
    "\\end{equation}\n",
    "$$\n",
    "\n",
    "---\n",
    "Put the incidence variable in the context of our example, it looks like this:\n",
    "\n",
    "|              |   |   | ODF ($j$)|   |   |   |\n",
    "|--------------|---|---|----------|---|---|---|\n",
    "|Resource ($i$)| 1 | 2 | 3        | 4 | 5 | 6 |\n",
    "|--------------|---|---|----------|---|---|---|\n",
    "|1             | 1 | 1 | 0        | 0 | 1 | 1 |\n",
    "|2             | 0 | 0 | 1        | 1 | 1 | 1 |\n",
    "\n",
    "For instance, both SFO -> DEV full and discount fare consumes a flight seat on SFO -> DEV flight.\n",
    "\n",
    "Once we have all these, we are now ready to write our linear programming formulation:\n",
    "\n",
    "$$\n",
    "\\begin{align}\n",
    "&\\max_{x_j}\\,\\sum_{j=1}^{n}p_jx_j,\\\\\n",
    "\\text{subject to} &\\\\\n",
    "&\\sum_{j=1}^{n}a_{ij}x_j \\leq C_i\\qquad \\text{ for all }i,\\\\\n",
    "& x_j \\leq d_j, \\qquad \\text{ for all }j,\\\\\n",
    "& x_j \\geq 0 , \\qquad \\text{ for all }j.\\\\\n",
    "\\end{align}\n",
    "$$"
   ]
  },
  {
   "cell_type": "markdown",
   "id": "364e0d69-6b3d-4fca-8929-4025656dd7f9",
   "metadata": {},
   "source": [
    "Next, we go back to our example and try to write the airline's problem in a more understandable way. After all, not everyone likes this *complex* notation of LP.\n",
    "\n",
    "$$\n",
    "\\begin{align}\n",
    "\\text{maximize } \\qquad & 150x_1 + 100x_2 + 120x_3 + 80x_4 + 250x_5 + 170x_6\\\\\n",
    "\\text{subject to } \\qquad &\\\\\n",
    "& x_1 + x_2 + x_5 + x_6 \\leq 100,\\\\\n",
    "& x_3 + x_4 + x_5 +x_6 \\leq 120,\\\\\n",
    "& x_1 \\leq 30,\\\\\n",
    "& x_2 \\leq 60,\\\\\n",
    "& x_3 \\leq 20,\\\\\n",
    "& x_4 \\leq 80,\\\\\n",
    "& x_5 \\leq 30,\\\\\n",
    "& x_6 \\leq 40,\\\\\n",
    "& x_1, x_2, x_3, x_4, x_5, x_6 \\geq 0.\n",
    "\\end{align}\n",
    "$$"
   ]
  },
  {
   "cell_type": "markdown",
   "id": "da2f164b-c3c0-4598-b509-94f7c53220f4",
   "metadata": {},
   "source": [
    "Looking back our simple LP example, we can write it as a matrix form so that its python implementation will be very clear. The matrix form is for constraints $Gx\\leq h$.\n",
    "\n",
    "$$\n",
    "\\begin{bmatrix}\n",
    "1 & 1 & 0 & 0 & 1 & 1\\\\\n",
    "0 & 0 & 1 & 1 & 1 & 1\\\\\n",
    "1 & 0 & 0 & 0 & 0 & 0\\\\\n",
    "0 & 1 & 0 & 0 & 0 & 0\\\\\n",
    "0 & 0 & 1 & 0 & 0 & 0\\\\\n",
    "0 & 0 & 0 & 1 & 0 & 0\\\\\n",
    "0 & 0 & 0 & 0 & 1 & 0\\\\\n",
    "0 & 0 & 0 & 0 & 0 & 1\n",
    "\\end{bmatrix}\n",
    "\\begin{bmatrix}\n",
    "x_1\\\\\n",
    "x_2\\\\\n",
    "x_3\\\\\n",
    "x_4\\\\\n",
    "x_5\\\\\n",
    "x_6\n",
    "\\end{bmatrix}\n",
    "\\leq\n",
    "\\begin{bmatrix}\n",
    "100\\\\\n",
    "120\\\\\n",
    "30\\\\\n",
    "60\\\\\n",
    "20\\\\\n",
    "80\\\\\n",
    "30\\\\\n",
    "40\n",
    "\\end{bmatrix}\n",
    "$$"
   ]
  },
  {
   "cell_type": "markdown",
   "id": "645ebe44-fc71-418f-b80b-8822c3d690dd",
   "metadata": {},
   "source": [
    "## Python Implementation"
   ]
  },
  {
   "cell_type": "code",
   "execution_count": 1,
   "id": "067444b1-70b7-45a5-9e4e-ec8620a909b8",
   "metadata": {},
   "outputs": [],
   "source": [
    "import numpy as np\n",
    "from cvxopt import matrix, solvers"
   ]
  },
  {
   "cell_type": "code",
   "execution_count": 14,
   "id": "37c3901e-1ece-4239-b457-01d040b604ab",
   "metadata": {},
   "outputs": [],
   "source": [
    "c = matrix([-150., -100., -120., -80., -250., -170.])\n",
    "G = matrix([[1., 0., 1., 0., 0., 0., 0., 0., -1., 0., 0., 0., 0., 0.], \n",
    "            [1., 0., 0., 1., 0., 0., 0., 0., 0., -1., 0., 0., 0., 0.], \n",
    "            [0., 1., 0., 0., 1., 0., 0., 0., 0., 0., -1., 0., 0., 0.],\n",
    "            [0., 1., 0., 0., 0., 1., 0., 0., 0., 0., 0., -1., 0., 0.],\n",
    "            [1., 1., 0., 0., 0., 0., 1., 0., 0., 0., 0., 0., -1., 0.],\n",
    "            [1., 1., 0., 0., 0., 0., 0., 1., 0., 0., 0., 0., 0., -1.]])\n",
    "h = matrix([100., 120., 30., 60., 20., 80., 30., 40., 0., 0., 0., 0., 0., 0.])"
   ]
  },
  {
   "cell_type": "code",
   "execution_count": 15,
   "id": "a88cdcee-ee63-4424-a504-299509ccb6e5",
   "metadata": {},
   "outputs": [
    {
     "name": "stdout",
     "output_type": "stream",
     "text": [
      "     pcost       dcost       gap    pres   dres   k/t\n",
      " 0: -2.1141e+04 -4.2921e+04  1e+04  0e+00  4e-01  1e+00\n",
      " 1: -2.3166e+04 -2.6553e+04  2e+03  4e-16  6e-02  2e+01\n",
      " 2: -2.3784e+04 -2.4468e+04  4e+02  2e-16  1e-02  6e+00\n",
      " 3: -2.3975e+04 -2.4106e+04  7e+01  3e-16  3e-03  1e+00\n",
      " 4: -2.3999e+04 -2.4002e+04  1e+00  1e-16  4e-05  5e-02\n",
      " 5: -2.4000e+04 -2.4000e+04  1e-02  3e-16  4e-07  5e-04\n",
      " 6: -2.4000e+04 -2.4000e+04  1e-04  1e-16  4e-09  5e-06\n",
      "Optimal solution found.\n",
      "[ 3.00e+01]\n",
      "[ 4.00e+01]\n",
      "[ 2.00e+01]\n",
      "[ 7.00e+01]\n",
      "[ 3.00e+01]\n",
      "[ 8.85e-07]\n",
      "\n",
      "23999.999948364362\n"
     ]
    }
   ],
   "source": [
    "sol = solvers.lp(c, G, h)\n",
    "print(sol['x'])\n",
    "print(-sol['primal objective'])"
   ]
  },
  {
   "cell_type": "markdown",
   "id": "53022d4d-a2e4-4df6-8b84-89790fc4d58e",
   "metadata": {},
   "source": [
    "The optimal allocation decision is 30, 40, 20, 70, 30, and 0. With this allocation the airline can achieve revenue of \\$24,000."
   ]
  },
  {
   "cell_type": "code",
   "execution_count": null,
   "id": "f5245e39-a781-4cb1-ac65-f54315604843",
   "metadata": {},
   "outputs": [],
   "source": []
  }
 ],
 "metadata": {
  "kernelspec": {
   "display_name": "Python 3 (ipykernel)",
   "language": "python",
   "name": "python3"
  },
  "language_info": {
   "codemirror_mode": {
    "name": "ipython",
    "version": 3
   },
   "file_extension": ".py",
   "mimetype": "text/x-python",
   "name": "python",
   "nbconvert_exporter": "python",
   "pygments_lexer": "ipython3",
   "version": "3.9.7"
  }
 },
 "nbformat": 4,
 "nbformat_minor": 5
}
