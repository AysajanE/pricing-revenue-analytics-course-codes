{
 "cells": [
  {
   "cell_type": "markdown",
   "id": "9a493489-b183-47db-8557-2656d98a9e47",
   "metadata": {},
   "source": [
    "# Revenue Management Simple Two-Class Model\n",
    "## Littlewood's Rule\n",
    "\n",
    "Reference: https://link.springer.com/article/10.1057/palgrave.rpm.5170134"
   ]
  },
  {
   "cell_type": "markdown",
   "id": "25b26435-435e-4e5d-8f2a-0930d87c548e",
   "metadata": {},
   "source": [
    "The Littlewood's rule assumes two product classes (e.g.,full- and discount-fare airline tickets, full- and discount-rate for hotel rooms, etc.) with associated prices $p_f$ and $p_d$, where $p_f > p_d$. The capacity is $C$. We ignore calcellations, no-shows, and overbooking. $D_f$ and $D_d$ denote demands for full-fare and discount-fare, respectively. The demand is a random variable with distribution $F_f$ and $F_d$."
   ]
  },
  {
   "cell_type": "markdown",
   "id": "5952cbf7-07a5-4177-a4aa-25dce0f6dbb4",
   "metadata": {},
   "source": [
    "The problem we are trying to solve is to determine how much discount class demand to accept before seeing the realization of full class demand. Why is this the case? In general hotel, airline bookings exihibit similar patterns: demands for discount class arrive first in the booking horizon and demands for the full class arrive later. This is because of two very different customer segments: leisure travelers and business travelers. Their characteristics determine such an interesting arrival pattern. Leisure travelers are price sensitive and tend to book well in advance whereas business travelers are relatively less price sensitive (afterall they are not paying for the ticket or room) and tend to book much closer to the service date. "
   ]
  },
  {
   "cell_type": "markdown",
   "id": "2db412d6-d7f0-4c4b-8950-e546706065ef",
   "metadata": {},
   "source": [
    "With those characteristics, the problem for the company is to determine how much discount class demand to accept before realizing full class demand. What happens if they don't evalaute it carefully? Let's imagine two scenarios:\n",
    "- Booking limit for the discount class is too low. In this situation, more rooms reserved for late-arriving full class business customers. But if the full class demand is not strong, then the airplane will take off with more empty seats. They could have sold it to the discount class early on when the booking requests arrive. So this causes __spoilage__. Once the airplane take off, the empty seats are spoiled because airlines cannot store it and save for later days.\n",
    "- Booking limie for the discount class is too high. In htis situation, less rooms are reserved for the late-arriving high paying business class. If the business demand is strong, since they sell too many rooms upfront for the discount class, they forgo the higher revenue they could have earned if they had enough seats for business class. This causes dilution because airlines earn lower price instead of higher price.\n",
    "\n",
    "The challenge is then to balance the tradeoff with the goal of maximizing expected revenue."
   ]
  },
  {
   "cell_type": "markdown",
   "id": "8d3454d1-066b-4f32-8de9-b7097b2ca156",
   "metadata": {},
   "source": [
    "Then, question is how we do it? Well, we do marginal analysis. Suppose that we have $x$ units of capacity remaining and we receive a booking request for a discount class. Two possible outcomes depending on what we decide to do:\n",
    "- If we accept it, we collect __guaranteed__ revenue $p_d$.\n",
    "- If we do not accept it, we are hoping that we could sell it to the higher paying class. But it is not guaranteed. We could sell this unit $x$ (marginal $x^{th}$ unit) if and only if demand for full class is at least $x$; if the demand for the full class is lower than $x$, we got nothing from it - spoilage of the seat. \n",
    "\n",
    "So the question is what is the expected revenue we could collect from this $x^{th}$ unit? The answer depends on the probability of full class demand being greater than or equal to $x$\n",
    "\n",
    "$$EV(\\text{reserving } x^{th} \\text{ seat}) = p_f Pr(D_f \\geq x)$$"
   ]
  },
  {
   "cell_type": "markdown",
   "id": "b1d14c5b-3f70-4e1f-9576-7470e3c1cbeb",
   "metadata": {},
   "source": [
    "Now I can make statements as follows:\n",
    "- We will accept the discount class booking request if $p_d \\geq p_f\\Pr(D_f \\geq x)$\n",
    "- We will not accept the discount class booking request if $p_d < p_f\\Pr(D_f \\geq x)$"
   ]
  },
  {
   "cell_type": "markdown",
   "id": "aa49e6ae-0670-4625-8f5e-2c360797afd8",
   "metadata": {},
   "source": [
    "## Algorithm for Computing Optimal Discoount Booking Limits\n",
    "The marginal analysis we just did suggests that we can use a simple iterative algorithm to calculate the optimal booking limit $b^*$ for discount class."
   ]
  },
  {
   "cell_type": "code",
   "execution_count": 1,
   "id": "a37bf5ee-3ade-4179-8912-a16723f81e1a",
   "metadata": {},
   "outputs": [],
   "source": [
    "%matplotlib inline"
   ]
  },
  {
   "cell_type": "code",
   "execution_count": 2,
   "id": "fe823bd9-b9ae-401e-b277-4a0d551e5867",
   "metadata": {},
   "outputs": [],
   "source": [
    "import numpy as np\n",
    "import pandas as pd\n",
    "import matplotlib.pyplot as plt\n",
    "import math\n",
    "from scipy import stats\n",
    "from scipy.stats import norm"
   ]
  },
  {
   "cell_type": "code",
   "execution_count": 3,
   "id": "c90bedaf-125b-464c-abb5-4fdec173b850",
   "metadata": {},
   "outputs": [],
   "source": [
    "# initial parameter values\n",
    "cap = 146\n",
    "full_price, disc_price = 174, 114\n",
    "\n",
    "mu_full, sig_full = 92, 30\n",
    "mu_disc, sig_disc = 80, 25"
   ]
  },
  {
   "cell_type": "code",
   "execution_count": 7,
   "id": "b05564ad-a9ee-4d13-92af-e015e6510851",
   "metadata": {},
   "outputs": [],
   "source": [
    "# For a given booking limit, calculate the revenue change\n",
    "def ev_b_to_b_plus_one(bl):\n",
    "    ev_b_to_b_plus_one = disc_price - full_price * (1 - norm.cdf(cap - bl, mu_full, sig_full))\n",
    "    return ev_b_to_b_plus_one"
   ]
  },
  {
   "cell_type": "code",
   "execution_count": 12,
   "id": "9f19315e-8012-4e5f-8c43-b1ee88172656",
   "metadata": {},
   "outputs": [
    {
     "name": "stdout",
     "output_type": "stream",
     "text": [
      "66\n"
     ]
    }
   ],
   "source": [
    "# Algorithm\n",
    "b = 0\n",
    "b_opt = 0\n",
    "\n",
    "if b == cap:\n",
    "    b_opt = b\n",
    "else:    \n",
    "    if (ev_b_to_b_plus_one(b) <= 0) or (norm.cdf(b + 1, mu_disc, sig_disc) == 1):\n",
    "        b_opt = b\n",
    "    else:\n",
    "        while (ev_b_to_b_plus_one(b) > 0) and (norm.cdf(b + 1, mu_disc, sig_disc) < 1):\n",
    "            b += 1\n",
    "        b_opt = b\n",
    "        \n",
    "print(b_opt)"
   ]
  },
  {
   "cell_type": "code",
   "execution_count": null,
   "id": "7fa109c1-d56e-452d-9419-dc8cfe438e10",
   "metadata": {},
   "outputs": [],
   "source": []
  }
 ],
 "metadata": {
  "kernelspec": {
   "display_name": "Python 3 (ipykernel)",
   "language": "python",
   "name": "python3"
  },
  "language_info": {
   "codemirror_mode": {
    "name": "ipython",
    "version": 3
   },
   "file_extension": ".py",
   "mimetype": "text/x-python",
   "name": "python",
   "nbconvert_exporter": "python",
   "pygments_lexer": "ipython3",
   "version": "3.9.7"
  }
 },
 "nbformat": 4,
 "nbformat_minor": 5
}
